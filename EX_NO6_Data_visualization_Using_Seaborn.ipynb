{
  "cells": [
    {
      "cell_type": "markdown",
      "metadata": {
        "id": "FuLLZ6EFnk-A"
      },
      "source": [
        "**Data visualization Using Seaborn**"
      ]
    },
    {
      "cell_type": "code",
      "execution_count": null,
      "metadata": {
        "id": "P3IUUNXhkVs-"
      },
      "outputs": [],
      "source": [
        "import pandas as pd\n",
        "import numpy as np\n",
        "import seaborn as sns\n",
        "import matplotlib.pyplot as plt"
      ]
    },
    {
      "cell_type": "code",
      "execution_count": null,
      "metadata": {
        "id": "JeTbcqTqogoo"
      },
      "outputs": [],
      "source": [
        "# Datas\n",
        "x = [1, 2, 3, 4, 5]\n",
        "y = [3, 6, 2, 7, 1]"
      ]
    },
    {
      "cell_type": "code",
      "execution_count": null,
      "metadata": {
        "id": "r_x-no-bozuS"
      },
      "outputs": [],
      "source": [
        "# Create line plot using seaborn\n"
      ]
    },
    {
      "cell_type": "code",
      "execution_count": null,
      "metadata": {
        "id": "LXhl8Ly4o3u9"
      },
      "outputs": [],
      "source": [
        "x = [1, 2, 3, 4, 5]\n",
        "y1 = [3, 5, 2, 6, 1]\n",
        "y2 = [1, 6, 4, 3, 8]\n",
        "y3 = [5, 2, 7, 1, 4]"
      ]
    },
    {
      "cell_type": "code",
      "execution_count": null,
      "metadata": {
        "id": "uQmDGp4juoGD"
      },
      "outputs": [],
      "source": [
        "# implement line plot and include all the necessary parameters\n",
        "plt.figure(figsize=(8,5))\n",
        "sns.lineplot(x=x, y=y1, marker='o', label='Line 1')\n",
        "sns.lineplot(x=x, y=y2, marker='s', label='Line 2')\n",
        "sns.lineplot(x=x, y=y3, marker='^', label='Line 3')\n",
        "plt.xlabel('X-axis')\n",
        "plt.ylabel('Y-axis')\n",
        "plt.title('Line Plot Example')\n",
        "plt.legend()\n",
        "plt.show()"
      ]
    },
    {
      "cell_type": "markdown",
      "metadata": {
        "id": "5CFH0S3XveoG"
      },
      "source": [
        "**Bar Plot - Seaborn**"
      ]
    },
    {
      "cell_type": "code",
      "execution_count": null,
      "metadata": {
        "id": "WR7FrA6vuuj9"
      },
      "outputs": [],
      "source": [
        "tips = sns.load_dataset('tips')"
      ]
    },
    {
      "cell_type": "code",
      "execution_count": null,
      "metadata": {
        "id": "3ljBSOfKu2KG"
      },
      "outputs": [],
      "source": [
        "# Implement Bar plot with hue parameter\n",
        "plt.figure(figsize=(8,5))\n",
        "sns.barplot(x='day', y='total_bill', data=tips, hue='sex', palette='pastel')\n",
        "plt.xlabel('Day')\n",
        "plt.ylabel('Total Bill')\n",
        "plt.title('Total Bill by Day and Gender')\n",
        "plt.show()\n",
        "# Set labels and title\n"
      ]
    },
    {
      "cell_type": "code",
      "execution_count": null,
      "metadata": {
        "id": "JOlOoA9VvKJS"
      },
      "outputs": [],
      "source": [
        "# Include titanic dataset\n",
        "tit=pd.read_csv(\"/content/titanic_dataset.csv\")\n",
        "tit"
      ]
    },
    {
      "cell_type": "code",
      "execution_count": null,
      "metadata": {
        "id": "e-KcupL7v9_a"
      },
      "outputs": [],
      "source": [
        "plt.figure(figsize=(8,5))\n",
        "sns.barplot(x='Embarked', y='Fare', data=tit, palette='rainbow')\n",
        "plt.title(\"Fare of Passenger by Embarked Town\")\n",
        "plt.show()\n",
        "# Implement barplot using seaborn and set x='Embarked',y='Fare',data=tit, palette='rainbow' and set graph title as \"Fare of Passenger by Embarked Town\""
      ]
    },
    {
      "cell_type": "code",
      "execution_count": null,
      "metadata": {
        "id": "6W4nT5bMwQyL"
      },
      "outputs": [],
      "source": [
        "plt.figure(figsize=(8,5))\n",
        "sns.barplot(x='Embarked', y='Fare', data=tit, palette='rainbow', hue='Pclass')\n",
        "plt.title(\"Fare of Passenger by Embarked Town, Divided by Class\")\n",
        "plt.show()\n",
        "# Implement barplot using seaborn and set x='Embarked',y='Fare',data=tit, palette='rainbow',hue='Pclass' and set graph title as \"Fare of Passenger by Embarked Town, Divided by Class\""
      ]
    },
    {
      "cell_type": "code",
      "execution_count": null,
      "metadata": {
        "id": "19bsCiuowjjf"
      },
      "outputs": [],
      "source": [
        "import seaborn as sns\n",
        "# using tips dataset implement Scatter plot of total bill vs tip amount\n",
        "\n",
        "# Set labels and title\n",
        "plt.xlabel('Total Bill')\n",
        "plt.ylabel('Tip Amount')\n",
        "plt.title('Scatter Plot of Total Bill vs. Tip Amount')"
      ]
    },
    {
      "cell_type": "markdown",
      "metadata": {
        "id": "Lp-XssW0xVig"
      },
      "source": [
        "**VIOLIN PLOT**"
      ]
    },
    {
      "cell_type": "code",
      "execution_count": null,
      "metadata": {
        "id": "BUyOTlL6w3VO"
      },
      "outputs": [],
      "source": [
        "# implement violinplot by comparing any two values from titanic data set\n",
        "plt.figure(figsize=(8,5))\n",
        "sns.violinplot(x='Pclass', y='Fare', data=tit, palette='Set2')\n",
        "plt.title('Violin Plot of Fare by Passenger Class')\n",
        "plt.show()"
      ]
    },
    {
      "cell_type": "markdown",
      "metadata": {
        "id": "RyJQEywSxkBW"
      },
      "source": [
        "**HISTOGRAM**"
      ]
    },
    {
      "cell_type": "code",
      "execution_count": null,
      "metadata": {
        "id": "2e9qUBLFxiAa"
      },
      "outputs": [],
      "source": [
        "import seaborn as sns\n",
        "import numpy as np\n",
        "import pandas as pd"
      ]
    },
    {
      "cell_type": "code",
      "execution_count": null,
      "metadata": {
        "id": "Ze-UX9O_xr8P"
      },
      "outputs": [],
      "source": [
        "np.random.seed(0)\n",
        "marks = np.random.normal(loc=70, scale=10, size=100)"
      ]
    },
    {
      "cell_type": "code",
      "execution_count": null,
      "metadata": {
        "id": "fytWCuBzxuuj"
      },
      "outputs": [],
      "source": [
        "# Generating dataset of random numbers\n",
        "np.random.seed(1)\n",
        "num_var = np.random.randn(1000)\n",
        "num_var = pd.Series(num_var, name = \"Numerical Variable\")\n",
        "num_var"
      ]
    },
    {
      "cell_type": "code",
      "execution_count": null,
      "metadata": {
        "id": "CwQgQQjYxyqU"
      },
      "outputs": [],
      "source": [
        "# IMPLEMENT HISTOGRAM\n",
        "plt.figure(figsize=(8,5))\n",
        "sns.histplot(marks, kde=True, color='skyblue', bins=15)\n",
        "plt.xlabel('Marks')\n",
        "plt.ylabel('Frequency')\n",
        "plt.title('Histogram of Marks')\n",
        "plt.show()"
      ]
    },
    {
      "cell_type": "code",
      "execution_count": null,
      "metadata": {
        "id": "lzbMVIaOx3OT"
      },
      "outputs": [],
      "source": [
        "# IMPLEMENT histplot in seaborn and set parameters data=df,x=Pclass,hue=Survived,kde=True\n",
        "# Histogram for Titanic dataset: Pclass vs Survived\n",
        "plt.figure(figsize=(8,5))\n",
        "sns.histplot(data=tit, x='Pclass', hue='Survived', multiple='stack', kde=True, palette='Set1')\n",
        "plt.title('Histogram of Pclass Divided by Survived')\n",
        "plt.show()\n"
      ]
    }
  ],
  "metadata": {
    "colab": {
      "provenance": []
    },
    "kernelspec": {
      "display_name": "Python 3",
      "name": "python3"
    },
    "language_info": {
      "name": "python"
    }
  },
  "nbformat": 4,
  "nbformat_minor": 0
}
