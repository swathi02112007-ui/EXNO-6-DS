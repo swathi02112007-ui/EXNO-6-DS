{
  "cells": [
    {
      "cell_type": "markdown",
      "metadata": {
        "id": "FuLLZ6EFnk-A"
      },
      "source": [
        "**Data visualization Using Seaborn**"
      ]
    },
    {
      "cell_type": "code",
      "execution_count": null,
      "metadata": {
        "id": "P3IUUNXhkVs-"
      },
      "outputs": [],
      "source": [
        "import pandas as pd\n",
        "import numpy as np\n",
        "import seaborn as sns\n",
        "import matplotlib.pyplot as plt"
      ]
    },
    {
      "cell_type": "code",
      "execution_count": null,
      "metadata": {
        "id": "JeTbcqTqogoo"
      },
      "outputs": [],
      "source": [
        "# Datas\n",
        "x = [1, 2, 3, 4, 5]\n",
        "y = [3, 6, 2, 7, 1]"
      ]
    },
    {
      "cell_type": "code",
      "execution_count": null,
      "metadata": {
        "id": "r_x-no-bozuS"
      },
      "outputs": [],
      "source": [
        "# Create line plot using seaborn\n"
      ]
    },
    {
      "cell_type": "code",
      "execution_count": null,
      "metadata": {
        "id": "LXhl8Ly4o3u9"
      },
      "outputs": [],
      "source": [
        "x = [1, 2, 3, 4, 5]\n",
        "y1 = [3, 5, 2, 6, 1]\n",
        "y2 = [1, 6, 4, 3, 8]\n",
        "y3 = [5, 2, 7, 1, 4]"
      ]
    },
    {
      "cell_type": "code",
      "execution_count": null,
      "metadata": {
        "id": "uQmDGp4juoGD"
      },
      "outputs": [],
      "source": [
        "# implement line plot and include all the necessary parameters"
      ]
    },
    {
      "cell_type": "markdown",
      "metadata": {
        "id": "5CFH0S3XveoG"
      },
      "source": [
        "**Bar Plot - Seaborn**"
      ]
    },
    {
      "cell_type": "code",
      "execution_count": null,
      "metadata": {
        "id": "WR7FrA6vuuj9"
      },
      "outputs": [],
      "source": [
        "tips = sns.load_dataset('tips')"
      ]
    },
    {
      "cell_type": "code",
      "execution_count": null,
      "metadata": {
        "id": "3ljBSOfKu2KG"
      },
      "outputs": [],
      "source": [
        "# Implement Bar plot with hue parameter\n",
        "# Set labels and title\n"
      ]
    },
    {
      "cell_type": "code",
      "execution_count": null,
      "metadata": {
        "id": "JOlOoA9VvKJS"
      },
      "outputs": [],
      "source": [
        "# Include titanic dataset\n",
        "tit=pd.read_csv(\"/content/titanic_dataset.csv\")\n",
        "tit"
      ]
    },
    {
      "cell_type": "code",
      "execution_count": null,
      "metadata": {
        "id": "e-KcupL7v9_a"
      },
      "outputs": [],
      "source": [
        "plt.figure(figsize=(8,5))\n",
        "# Implement barplot using seaborn and set x='Embarked',y='Fare',data=tit, palette='rainbow' and set graph title as \"Fare of Passenger by Embarked Town\""
      ]
    },
    {
      "cell_type": "code",
      "execution_count": null,
      "metadata": {
        "id": "6W4nT5bMwQyL"
      },
      "outputs": [],
      "source": [
        "plt.figure(figsize=(8,5))\n",
        "# Implement barplot using seaborn and set x='Embarked',y='Fare',data=tit, palette='rainbow',hue='Pclass' and set graph title as \"Fare of Passenger by Embarked Town, Divided by Class\""
      ]
    },
    {
      "cell_type": "code",
      "execution_count": null,
      "metadata": {
        "id": "19bsCiuowjjf"
      },
      "outputs": [],
      "source": [
        "import seaborn as sns\n"
      ]
    },
    {
      "cell_type": "markdown",
      "metadata": {
        "id": "Lp-XssW0xVig"
      },
      "source": [
        "**VIOLIN PLOT**"
      ]
    },
    {
      "cell_type": "code",
      "execution_count": null,
      "metadata": {
        "id": "BUyOTlL6w3VO"
      },
      "outputs": [],
      "source": [
        "# implement violinplot by comparing any two values from titanic data set"
      ]
    },
    {
      "cell_type": "markdown",
      "metadata": {
        "id": "RyJQEywSxkBW"
      },
      "source": [
        "**HISTOGRAM**"
      ]
    },
    {
      "cell_type": "code",
      "execution_count": null,
      "metadata": {
        "id": "2e9qUBLFxiAa"
      },
      "outputs": [],
      "source": [
        "import seaborn as sns\n",
        "import numpy as np\n",
        "import pandas as pd"
      ]
    },
    {
      "cell_type": "code",
      "execution_count": null,
      "metadata": {
        "id": "Ze-UX9O_xr8P"
      },
      "outputs": [],
      "source": [
        "np.random.seed(0)\n",
        "marks = np.random.normal(loc=70, scale=10, size=100)"
      ]
    },
    {
      "cell_type": "code",
      "execution_count": null,
      "metadata": {
        "id": "fytWCuBzxuuj"
      },
      "outputs": [],
      "source": [
        "# Generating dataset of random numbers"
      ]
    },
    {
      "cell_type": "code",
      "execution_count": null,
      "metadata": {
        "id": "CwQgQQjYxyqU"
      },
      "outputs": [],
      "source": [
        "# IMPLEMENT HISTOGRAM"
      ]
    },
    {
      "cell_type": "code",
      "execution_count": null,
      "metadata": {
        "id": "lzbMVIaOx3OT"
      },
      "outputs": [],
      "source": [
        "# IMPLEMENT histplot in seaborn and set parameters data=df,x=Pclass,hue=Survived,kde=True"
      ]
    }
  ],
  "metadata": {
    "colab": {
      "provenance": []
    },
    "kernelspec": {
      "display_name": "Python 3",
      "name": "python3"
    },
    "language_info": {
      "name": "python"
    }
  },
  "nbformat": 4,
  "nbformat_minor": 0
}
